{
 "cells": [
  {
   "cell_type": "markdown",
   "metadata": {},
   "source": [
    "# Harvest GLAM datasets from data.gov.au\n",
    "\n",
    "This is a quick attempt to harvest datasets published by GLAM institutions using the new [data.gov.au API](https://data.gov.au/api/v0/apidocs/index.html).\n",
    "\n",
    "To create the list of organisations, I searched the organisations on the [data.gov.au site](https://data.gov.au/) for 'library', 'archives', 'records', and 'museum'. I noticed that Queensland State Archives isn't included as an organisation, even though it's used as a tag, so I added it in as a query. There are inconsistencies in the way organisations are listed, so it's possible I've missed some."
   ]
  },
  {
   "cell_type": "code",
   "execution_count": 1,
   "metadata": {},
   "outputs": [],
   "source": [
    "import requests\n",
    "import json\n",
    "from json import JSONDecodeError\n",
    "import pandas as pd\n",
    "from urllib.parse import urlparse\n",
    "import os\n",
    "import re\n",
    "import time\n",
    "import pandas as pd\n",
    "from requests.adapters import HTTPAdapter\n",
    "from requests.packages.urllib3.util.retry import Retry\n",
    "\n",
    "s = requests.Session()\n",
    "retries = Retry(total=5, backoff_factor=1, status_forcelist=[ 502, 503, 504 ])\n",
    "s.mount('http://', HTTPAdapter(max_retries=retries))\n",
    "s.mount('https://', HTTPAdapter(max_retries=retries))"
   ]
  },
  {
   "cell_type": "code",
   "execution_count": 2,
   "metadata": {},
   "outputs": [],
   "source": [
    "api_url = 'https://data.gov.au/api/v0/search/datasets'\n",
    "organisations = [\n",
    "    'NSW State Archives',\n",
    "    'National Archives of Australia',\n",
    "    'Libraries Tasmania',\n",
    "    'State Records',\n",
    "    'State Records Office of Western Australia',\n",
    "    'State Library of Victoria',\n",
    "    'State Library of NSW',\n",
    "    'Mount Gambier Library',\n",
    "    'National Library of Australia',\n",
    "    'State Library of Queensland',\n",
    "    'State Library of Western Australia',\n",
    "    'State Library of South Australia',\n",
    "    'State Library of New South Wales',\n",
    "    'Western Australian Museum',\n",
    "    'South Australian Museum',\n",
    "    'Museum of Applied Arts and Sciences',\n",
    "    'Tasmanian Museum and Art Gallery',\n",
    "    'History Trust of South Australia'\n",
    "]\n",
    "# No entries under organisations\n",
    "queries = [\n",
    "    '\"Queensland State Archives\"'\n",
    "]"
   ]
  },
  {
   "cell_type": "code",
   "execution_count": 36,
   "metadata": {},
   "outputs": [],
   "source": [
    "def safe_get(dct, *keys):\n",
    "    for key in keys:\n",
    "        try:\n",
    "            dct = dct[key]\n",
    "        except (KeyError, TypeError):\n",
    "            return None\n",
    "    return dct\n",
    "\n",
    "def process_dataset(dataset, query=None):\n",
    "    datafiles = []\n",
    "    for dist in dataset['distributions']:\n",
    "        if query:\n",
    "            publisher = query\n",
    "        else:\n",
    "            publisher = safe_get(dataset, 'publisher', 'name')\n",
    "        datafile = {\n",
    "            'dataset_title': safe_get(dataset, 'title'),\n",
    "            'publisher': publisher,\n",
    "            'dataset_issued': safe_get(dataset, 'issued'),\n",
    "            'dataset_modified': safe_get(dataset, 'modified'),\n",
    "            'dataset_description': safe_get(dataset, 'description'),\n",
    "            'source': safe_get(dataset, 'catalog'),\n",
    "            'info_url': safe_get(dataset, 'landingPage'),\n",
    "            'start_date': safe_get(dataset, 'temporal', 'start', 'date'),\n",
    "            'end_date': safe_get(dataset, 'temporal', 'end', 'date'),\n",
    "            'file_title': safe_get(dist, 'title'),\n",
    "            'download_url': safe_get(dist, 'downloadURL'),\n",
    "            'format': safe_get(dist, 'format'),\n",
    "            'file_description': safe_get(dist, 'description'),\n",
    "            'file_issued': safe_get(dist, 'issued'),\n",
    "            'file_modified': safe_get(dist, 'modified'),\n",
    "            'licence': safe_get(dist, 'license', 'name')\n",
    "        }\n",
    "        datafiles.append(datafile)\n",
    "    return datafiles\n",
    "\n",
    "def harvest_datasets():\n",
    "    datafiles = []\n",
    "    for organisation in organisations:\n",
    "        response = s.get(api_url, params={'publisher': organisation, 'limit': 100})\n",
    "        print(response.url)\n",
    "        data = response.json()\n",
    "        for dataset in data['dataSets']:\n",
    "            datafiles += process_dataset(dataset)\n",
    "    for query in queries:\n",
    "        response = s.get(api_url, params={'query': query, 'limit': 100})\n",
    "        print(response.url)\n",
    "        data = response.json()\n",
    "        for dataset in data['dataSets']:\n",
    "            datafiles += process_dataset(dataset)\n",
    "    return datafiles"
   ]
  },
  {
   "cell_type": "code",
   "execution_count": 37,
   "metadata": {},
   "outputs": [
    {
     "name": "stdout",
     "output_type": "stream",
     "text": [
      "https://data.gov.au/api/v0/search/datasets?publisher=NSW+State+Archives&limit=100\n",
      "https://data.gov.au/api/v0/search/datasets?publisher=National+Archives+of+Australia&limit=100\n",
      "https://data.gov.au/api/v0/search/datasets?publisher=Libraries+Tasmania&limit=100\n",
      "https://data.gov.au/api/v0/search/datasets?publisher=State+Records&limit=100\n",
      "https://data.gov.au/api/v0/search/datasets?publisher=State+Records+Office+of+Western+Australia&limit=100\n",
      "https://data.gov.au/api/v0/search/datasets?publisher=State+Library+of+Victoria&limit=100\n",
      "https://data.gov.au/api/v0/search/datasets?publisher=State+Library+of+NSW&limit=100\n",
      "https://data.gov.au/api/v0/search/datasets?publisher=Mount+Gambier+Library&limit=100\n",
      "https://data.gov.au/api/v0/search/datasets?publisher=National+Library+of+Australia&limit=100\n",
      "https://data.gov.au/api/v0/search/datasets?publisher=State+Library+of+Queensland&limit=100\n",
      "https://data.gov.au/api/v0/search/datasets?publisher=State+Library+of+Western+Australia&limit=100\n",
      "https://data.gov.au/api/v0/search/datasets?publisher=State+Library+of+South+Australia&limit=100\n",
      "https://data.gov.au/api/v0/search/datasets?publisher=State+Library+of+New+South+Wales&limit=100\n",
      "https://data.gov.au/api/v0/search/datasets?publisher=Western+Australian+Museum&limit=100\n",
      "https://data.gov.au/api/v0/search/datasets?publisher=South+Australian+Museum&limit=100\n",
      "https://data.gov.au/api/v0/search/datasets?publisher=Museum+of+Applied+Arts+and+Sciences&limit=100\n",
      "https://data.gov.au/api/v0/search/datasets?publisher=Tasmanian+Museum+and+Art+Gallery&limit=100\n",
      "https://data.gov.au/api/v0/search/datasets?publisher=History+Trust+of+South+Australia&limit=100\n",
      "https://data.gov.au/api/v0/search/datasets?query=%22Queensland+State+Archives%22&limit=100\n"
     ]
    }
   ],
   "source": [
    "datafiles = harvest_datasets()"
   ]
  },
  {
   "cell_type": "code",
   "execution_count": 42,
   "metadata": {},
   "outputs": [
    {
     "data": {
      "text/html": [
       "<div>\n",
       "<style scoped>\n",
       "    .dataframe tbody tr th:only-of-type {\n",
       "        vertical-align: middle;\n",
       "    }\n",
       "\n",
       "    .dataframe tbody tr th {\n",
       "        vertical-align: top;\n",
       "    }\n",
       "\n",
       "    .dataframe thead th {\n",
       "        text-align: right;\n",
       "    }\n",
       "</style>\n",
       "<table border=\"1\" class=\"dataframe\">\n",
       "  <thead>\n",
       "    <tr style=\"text-align: right;\">\n",
       "      <th></th>\n",
       "      <th>dataset_description</th>\n",
       "      <th>dataset_issued</th>\n",
       "      <th>dataset_modified</th>\n",
       "      <th>dataset_title</th>\n",
       "      <th>download_url</th>\n",
       "      <th>end_date</th>\n",
       "      <th>file_description</th>\n",
       "      <th>file_issued</th>\n",
       "      <th>file_modified</th>\n",
       "      <th>file_title</th>\n",
       "      <th>format</th>\n",
       "      <th>info_url</th>\n",
       "      <th>licence</th>\n",
       "      <th>publisher</th>\n",
       "      <th>source</th>\n",
       "      <th>start_date</th>\n",
       "    </tr>\n",
       "  </thead>\n",
       "  <tbody>\n",
       "    <tr>\n",
       "      <th>0</th>\n",
       "      <td>This index contains 763 entries from two serie...</td>\n",
       "      <td>2014-09-30T04:34:46Z</td>\n",
       "      <td>2016-07-20T12:10:21Z</td>\n",
       "      <td>Railway Employment Records</td>\n",
       "      <td>http://data.nsw.gov.au/data/storage/f/2014-09-...</td>\n",
       "      <td>None</td>\n",
       "      <td>This dataset contains the following attributes...</td>\n",
       "      <td>2014-09-30T00:36:18Z</td>\n",
       "      <td>None</td>\n",
       "      <td>Railway Employment Records</td>\n",
       "      <td>CSV</td>\n",
       "      <td>https://data.nsw.gov.au/data/dataset/1f776129-...</td>\n",
       "      <td>Creative Commons Attribution</td>\n",
       "      <td>NSW State Archives</td>\n",
       "      <td>New South Wales Government</td>\n",
       "      <td>None</td>\n",
       "    </tr>\n",
       "    <tr>\n",
       "      <th>1</th>\n",
       "      <td>Researching deceased estates files before 1923...</td>\n",
       "      <td>2014-09-30T04:52:48Z</td>\n",
       "      <td>2016-07-20T12:09:20Z</td>\n",
       "      <td>Deceased Estate Files, 1880-1923</td>\n",
       "      <td>https://data.nsw.gov.au/data/dataset/5d45437c-...</td>\n",
       "      <td>None</td>\n",
       "      <td>This dataset contains the following attributes...</td>\n",
       "      <td>2014-09-30T00:55:53Z</td>\n",
       "      <td>None</td>\n",
       "      <td>Deceased Estates</td>\n",
       "      <td>CSV</td>\n",
       "      <td>https://data.nsw.gov.au/data/dataset/5d45437c-...</td>\n",
       "      <td>Creative Commons Attribution</td>\n",
       "      <td>NSW State Archives</td>\n",
       "      <td>New South Wales Government</td>\n",
       "      <td>None</td>\n",
       "    </tr>\n",
       "    <tr>\n",
       "      <th>2</th>\n",
       "      <td>The passage of the Returned Soldiers Settlemen...</td>\n",
       "      <td>2013-05-28T05:07:29Z</td>\n",
       "      <td>2016-06-16T01:18Z</td>\n",
       "      <td>Soldier Settlement Indexes</td>\n",
       "      <td>https://data.nsw.gov.au/data/dataset/78fe0108-...</td>\n",
       "      <td>None</td>\n",
       "      <td>For a description of this data, see: [Closer S...</td>\n",
       "      <td>2013-05-28T01:08:57Z</td>\n",
       "      <td>None</td>\n",
       "      <td>Closer Settlement Promotion files, 1913-</td>\n",
       "      <td>CSV</td>\n",
       "      <td>https://data.nsw.gov.au/data/dataset/78fe0108-...</td>\n",
       "      <td>Creative Commons Attribution</td>\n",
       "      <td>NSW State Archives</td>\n",
       "      <td>New South Wales Government</td>\n",
       "      <td>None</td>\n",
       "    </tr>\n",
       "    <tr>\n",
       "      <th>3</th>\n",
       "      <td>The passage of the Returned Soldiers Settlemen...</td>\n",
       "      <td>2013-05-28T05:07:29Z</td>\n",
       "      <td>2016-06-16T01:18Z</td>\n",
       "      <td>Soldier Settlement Indexes</td>\n",
       "      <td>https://data.nsw.gov.au/data/dataset/78fe0108-...</td>\n",
       "      <td>None</td>\n",
       "      <td>For a description of this data, see this page:...</td>\n",
       "      <td>2013-05-28T01:09:42Z</td>\n",
       "      <td>None</td>\n",
       "      <td>Closer Settlement Transfer Registers, Jul 1919...</td>\n",
       "      <td>CSV</td>\n",
       "      <td>https://data.nsw.gov.au/data/dataset/78fe0108-...</td>\n",
       "      <td>Creative Commons Attribution</td>\n",
       "      <td>NSW State Archives</td>\n",
       "      <td>New South Wales Government</td>\n",
       "      <td>None</td>\n",
       "    </tr>\n",
       "    <tr>\n",
       "      <th>4</th>\n",
       "      <td>The passage of the Returned Soldiers Settlemen...</td>\n",
       "      <td>2013-05-28T05:07:29Z</td>\n",
       "      <td>2016-06-16T01:18Z</td>\n",
       "      <td>Soldier Settlement Indexes</td>\n",
       "      <td>https://data.nsw.gov.au/data/dataset/78fe0108-...</td>\n",
       "      <td>None</td>\n",
       "      <td>For a description of this data, see this page:...</td>\n",
       "      <td>2013-05-28T01:10:39Z</td>\n",
       "      <td>None</td>\n",
       "      <td>Closer Settlement and Returned Soldier’s Trans...</td>\n",
       "      <td>CSV</td>\n",
       "      <td>https://data.nsw.gov.au/data/dataset/78fe0108-...</td>\n",
       "      <td>Creative Commons Attribution</td>\n",
       "      <td>NSW State Archives</td>\n",
       "      <td>New South Wales Government</td>\n",
       "      <td>None</td>\n",
       "    </tr>\n",
       "  </tbody>\n",
       "</table>\n",
       "</div>"
      ],
      "text/plain": [
       "                                 dataset_description        dataset_issued  \\\n",
       "0  This index contains 763 entries from two serie...  2014-09-30T04:34:46Z   \n",
       "1  Researching deceased estates files before 1923...  2014-09-30T04:52:48Z   \n",
       "2  The passage of the Returned Soldiers Settlemen...  2013-05-28T05:07:29Z   \n",
       "3  The passage of the Returned Soldiers Settlemen...  2013-05-28T05:07:29Z   \n",
       "4  The passage of the Returned Soldiers Settlemen...  2013-05-28T05:07:29Z   \n",
       "\n",
       "       dataset_modified                     dataset_title  \\\n",
       "0  2016-07-20T12:10:21Z        Railway Employment Records   \n",
       "1  2016-07-20T12:09:20Z  Deceased Estate Files, 1880-1923   \n",
       "2     2016-06-16T01:18Z        Soldier Settlement Indexes   \n",
       "3     2016-06-16T01:18Z        Soldier Settlement Indexes   \n",
       "4     2016-06-16T01:18Z        Soldier Settlement Indexes   \n",
       "\n",
       "                                        download_url end_date  \\\n",
       "0  http://data.nsw.gov.au/data/storage/f/2014-09-...     None   \n",
       "1  https://data.nsw.gov.au/data/dataset/5d45437c-...     None   \n",
       "2  https://data.nsw.gov.au/data/dataset/78fe0108-...     None   \n",
       "3  https://data.nsw.gov.au/data/dataset/78fe0108-...     None   \n",
       "4  https://data.nsw.gov.au/data/dataset/78fe0108-...     None   \n",
       "\n",
       "                                    file_description           file_issued  \\\n",
       "0  This dataset contains the following attributes...  2014-09-30T00:36:18Z   \n",
       "1  This dataset contains the following attributes...  2014-09-30T00:55:53Z   \n",
       "2  For a description of this data, see: [Closer S...  2013-05-28T01:08:57Z   \n",
       "3  For a description of this data, see this page:...  2013-05-28T01:09:42Z   \n",
       "4  For a description of this data, see this page:...  2013-05-28T01:10:39Z   \n",
       "\n",
       "  file_modified                                         file_title format  \\\n",
       "0          None                         Railway Employment Records    CSV   \n",
       "1          None                                   Deceased Estates    CSV   \n",
       "2          None           Closer Settlement Promotion files, 1913-    CSV   \n",
       "3          None  Closer Settlement Transfer Registers, Jul 1919...    CSV   \n",
       "4          None  Closer Settlement and Returned Soldier’s Trans...    CSV   \n",
       "\n",
       "                                            info_url  \\\n",
       "0  https://data.nsw.gov.au/data/dataset/1f776129-...   \n",
       "1  https://data.nsw.gov.au/data/dataset/5d45437c-...   \n",
       "2  https://data.nsw.gov.au/data/dataset/78fe0108-...   \n",
       "3  https://data.nsw.gov.au/data/dataset/78fe0108-...   \n",
       "4  https://data.nsw.gov.au/data/dataset/78fe0108-...   \n",
       "\n",
       "                        licence           publisher  \\\n",
       "0  Creative Commons Attribution  NSW State Archives   \n",
       "1  Creative Commons Attribution  NSW State Archives   \n",
       "2  Creative Commons Attribution  NSW State Archives   \n",
       "3  Creative Commons Attribution  NSW State Archives   \n",
       "4  Creative Commons Attribution  NSW State Archives   \n",
       "\n",
       "                       source start_date  \n",
       "0  New South Wales Government       None  \n",
       "1  New South Wales Government       None  \n",
       "2  New South Wales Government       None  \n",
       "3  New South Wales Government       None  \n",
       "4  New South Wales Government       None  "
      ]
     },
     "execution_count": 42,
     "metadata": {},
     "output_type": "execute_result"
    }
   ],
   "source": [
    "df = pd.DataFrame(datafiles)\n",
    "df.head()"
   ]
  },
  {
   "cell_type": "code",
   "execution_count": 44,
   "metadata": {},
   "outputs": [
    {
     "data": {
      "text/plain": [
       "(835, 16)"
      ]
     },
     "execution_count": 44,
     "metadata": {},
     "output_type": "execute_result"
    }
   ],
   "source": [
    "df.shape"
   ]
  },
  {
   "cell_type": "code",
   "execution_count": 41,
   "metadata": {},
   "outputs": [
    {
     "data": {
      "text/plain": [
       "CSV           447\n",
       "XML            79\n",
       "JSON           73\n",
       "XLSX           54\n",
       "ESRI REST      41\n",
       "HTML           34\n",
       "DOCX           33\n",
       "PLAIN          16\n",
       "ZIP            13\n",
       "GEOJSON         8\n",
       "API             8\n",
       "DATA            6\n",
       "OTHER           4\n",
       "KML             2\n",
       "RSS             2\n",
       "JPEG            2\n",
       "MPK             2\n",
       "APP             1\n",
       "JAVASCRIPT      1\n",
       "WMS             1\n",
       "CSS             1\n",
       "PDF             1\n",
       "WFS             1\n",
       "HMTL            1\n",
       "Name: format, dtype: int64"
      ]
     },
     "execution_count": 41,
     "metadata": {},
     "output_type": "execute_result"
    }
   ],
   "source": [
    "df['format'].value_counts()"
   ]
  },
  {
   "cell_type": "code",
   "execution_count": 57,
   "metadata": {},
   "outputs": [
    {
     "data": {
      "text/plain": [
       "Creative Commons Attribution                                  310\n",
       "Creative Commons Attribution 4.0                              168\n",
       "Creative Commons Attribution 3.0 Australia                    156\n",
       "Creative Commons Attribution 4.0 International                110\n",
       "License not specified                                          41\n",
       "Creative Commons Attribution 2.5 Australia                     15\n",
       "Creative Commons Attribution-NonCommercial                     10\n",
       "notspecified                                                    5\n",
       "Other (Open)                                                    4\n",
       "Creative Commons Attribution 3.0                                3\n",
       "Creative Commons Attribution Share-Alike                        3\n",
       "Creative Commons Non-Commercial (Any)                           2\n",
       "Other (Non-Commercial)                                          1\n",
       "Creative Commons Attribution Share Alike 4.0 International      1\n",
       "Name: licence, dtype: int64"
      ]
     },
     "execution_count": 57,
     "metadata": {},
     "output_type": "execute_result"
    }
   ],
   "source": [
    "df['licence'].value_counts()"
   ]
  },
  {
   "cell_type": "code",
   "execution_count": 51,
   "metadata": {},
   "outputs": [],
   "source": [
    "df.to_csv('glam_datasets_all_formats_from_datagovau.csv', index=False)"
   ]
  },
  {
   "cell_type": "code",
   "execution_count": 52,
   "metadata": {},
   "outputs": [],
   "source": [
    "csvs = df.loc[df['format'] == 'CSV']"
   ]
  },
  {
   "cell_type": "code",
   "execution_count": 53,
   "metadata": {},
   "outputs": [
    {
     "data": {
      "text/plain": [
       "(447, 16)"
      ]
     },
     "execution_count": 53,
     "metadata": {},
     "output_type": "execute_result"
    }
   ],
   "source": [
    "csvs.shape"
   ]
  },
  {
   "cell_type": "code",
   "execution_count": 54,
   "metadata": {},
   "outputs": [],
   "source": [
    "csvs.to_csv('glam_datasets_csvs_from_datagovau.csv', index=False)"
   ]
  }
 ],
 "metadata": {
  "kernelspec": {
   "display_name": "Python 3",
   "language": "python",
   "name": "python3"
  },
  "language_info": {
   "codemirror_mode": {
    "name": "ipython",
    "version": 3
   },
   "file_extension": ".py",
   "mimetype": "text/x-python",
   "name": "python",
   "nbconvert_exporter": "python",
   "pygments_lexer": "ipython3",
   "version": "3.6.5"
  }
 },
 "nbformat": 4,
 "nbformat_minor": 2
}
