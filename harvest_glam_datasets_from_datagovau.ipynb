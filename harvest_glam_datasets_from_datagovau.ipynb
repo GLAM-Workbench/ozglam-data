{
 "cells": [
  {
   "cell_type": "markdown",
   "metadata": {},
   "source": [
    "# Harvest GLAM datasets from data.gov.au\n",
    "\n",
    "This is a quick attempt to harvest datasets published by GLAM institutions using the new [data.gov.au API](https://data.gov.au/api/v0/apidocs/index.html).\n",
    "\n",
    "To create the list of organisations, I searched the organisations on the [data.gov.au site](https://data.gov.au/) for 'library', 'archives', 'records', and 'museum'. I noticed that Queensland State Archives isn't included as an organisation, even though it's used as a tag, so I added it in as a query. There are inconsistencies in the way organisations are listed, so it's possible I've missed some."
   ]
  },
  {
   "cell_type": "code",
   "execution_count": 1,
   "metadata": {},
   "outputs": [],
   "source": [
    "import requests\n",
    "import json\n",
    "from json import JSONDecodeError\n",
    "import pandas as pd\n",
    "from urllib.parse import urlparse\n",
    "from IPython.display import display, FileLink\n",
    "import os\n",
    "import re\n",
    "import time\n",
    "import pandas as pd\n",
    "from requests.adapters import HTTPAdapter\n",
    "from requests.packages.urllib3.util.retry import Retry\n",
    "\n",
    "s = requests.Session()\n",
    "retries = Retry(total=5, backoff_factor=1, status_forcelist=[ 502, 503, 504 ])\n",
    "s.mount('http://', HTTPAdapter(max_retries=retries))\n",
    "s.mount('https://', HTTPAdapter(max_retries=retries))"
   ]
  },
  {
   "cell_type": "code",
   "execution_count": 2,
   "metadata": {},
   "outputs": [],
   "source": [
    "api_url = 'https://data.gov.au/api/v0/search/datasets'\n",
    "organisations = [\n",
    "    'NSW State Archives',\n",
    "    'National Archives of Australia',\n",
    "    'Libraries Tasmania',\n",
    "    'State Records',\n",
    "    'State Records Office of Western Australia',\n",
    "    'State Library of Victoria',\n",
    "    'State Library of NSW',\n",
    "    'Mount Gambier Library',\n",
    "    'National Library of Australia',\n",
    "    'State Library of Queensland',\n",
    "    'State Library of Western Australia',\n",
    "    'State Library of South Australia',\n",
    "    'State Library of New South Wales',\n",
    "    'Western Australian Museum',\n",
    "    'South Australian Museum',\n",
    "    'Museum of Applied Arts and Sciences',\n",
    "    'Tasmanian Museum and Art Gallery',\n",
    "    'History Trust of South Australia'\n",
    "]\n",
    "# No entries under organisations\n",
    "queries = [\n",
    "    '\"Queensland State Archives\"',\n",
    "    'PROV Public Record Office'\n",
    "]"
   ]
  },
  {
   "cell_type": "code",
   "execution_count": 3,
   "metadata": {},
   "outputs": [],
   "source": [
    "def safe_get(dct, *keys):\n",
    "    for key in keys:\n",
    "        try:\n",
    "            dct = dct[key]\n",
    "        except (KeyError, TypeError):\n",
    "            return None\n",
    "    return dct\n",
    "\n",
    "def process_dataset(dataset, query=None):\n",
    "    datafiles = []\n",
    "    for dist in dataset['distributions']:\n",
    "        if query:\n",
    "            publisher = query.strip('\"')\n",
    "        else:\n",
    "            publisher = safe_get(dataset, 'publisher', 'name')\n",
    "        datafile = {\n",
    "            'dataset_title': safe_get(dataset, 'title'),\n",
    "            'publisher': publisher,\n",
    "            'dataset_issued': safe_get(dataset, 'issued'),\n",
    "            'dataset_modified': safe_get(dataset, 'modified'),\n",
    "            'dataset_description': safe_get(dataset, 'description'),\n",
    "            'source': safe_get(dataset, 'catalog'),\n",
    "            'info_url': safe_get(dataset, 'landingPage'),\n",
    "            'start_date': safe_get(dataset, 'temporal', 'start', 'date'),\n",
    "            'end_date': safe_get(dataset, 'temporal', 'end', 'date'),\n",
    "            'file_title': safe_get(dist, 'title'),\n",
    "            'download_url': safe_get(dist, 'downloadURL'),\n",
    "            'format': safe_get(dist, 'format'),\n",
    "            'file_description': safe_get(dist, 'description'),\n",
    "            'file_issued': safe_get(dist, 'issued'),\n",
    "            'file_modified': safe_get(dist, 'modified'),\n",
    "            'licence': safe_get(dist, 'license', 'name')\n",
    "        }\n",
    "        datafiles.append(datafile)\n",
    "    return datafiles\n",
    "\n",
    "def harvest_datasets():\n",
    "    datafiles = []\n",
    "    for organisation in organisations:\n",
    "        response = s.get(api_url, params={'publisher': organisation, 'limit': 100})\n",
    "        print(response.url)\n",
    "        data = response.json()\n",
    "        for dataset in data['dataSets']:\n",
    "            datafiles += process_dataset(dataset)\n",
    "    for query in queries:\n",
    "        response = s.get(api_url, params={'query': query, 'limit': 100})\n",
    "        print(response.url)\n",
    "        data = response.json()\n",
    "        for dataset in data['dataSets']:\n",
    "            datafiles += process_dataset(dataset, query=query)\n",
    "    return datafiles"
   ]
  },
  {
   "cell_type": "code",
   "execution_count": 4,
   "metadata": {},
   "outputs": [
    {
     "name": "stdout",
     "output_type": "stream",
     "text": [
      "https://data.gov.au/api/v0/search/datasets?publisher=NSW+State+Archives&limit=100\n",
      "https://data.gov.au/api/v0/search/datasets?publisher=National+Archives+of+Australia&limit=100\n",
      "https://data.gov.au/api/v0/search/datasets?publisher=Libraries+Tasmania&limit=100\n",
      "https://data.gov.au/api/v0/search/datasets?publisher=State+Records&limit=100\n",
      "https://data.gov.au/api/v0/search/datasets?publisher=State+Records+Office+of+Western+Australia&limit=100\n",
      "https://data.gov.au/api/v0/search/datasets?publisher=State+Library+of+Victoria&limit=100\n",
      "https://data.gov.au/api/v0/search/datasets?publisher=State+Library+of+NSW&limit=100\n",
      "https://data.gov.au/api/v0/search/datasets?publisher=Mount+Gambier+Library&limit=100\n",
      "https://data.gov.au/api/v0/search/datasets?publisher=National+Library+of+Australia&limit=100\n",
      "https://data.gov.au/api/v0/search/datasets?publisher=State+Library+of+Queensland&limit=100\n",
      "https://data.gov.au/api/v0/search/datasets?publisher=State+Library+of+Western+Australia&limit=100\n",
      "https://data.gov.au/api/v0/search/datasets?publisher=State+Library+of+South+Australia&limit=100\n",
      "https://data.gov.au/api/v0/search/datasets?publisher=State+Library+of+New+South+Wales&limit=100\n",
      "https://data.gov.au/api/v0/search/datasets?publisher=Western+Australian+Museum&limit=100\n",
      "https://data.gov.au/api/v0/search/datasets?publisher=South+Australian+Museum&limit=100\n",
      "https://data.gov.au/api/v0/search/datasets?publisher=Museum+of+Applied+Arts+and+Sciences&limit=100\n",
      "https://data.gov.au/api/v0/search/datasets?publisher=Tasmanian+Museum+and+Art+Gallery&limit=100\n",
      "https://data.gov.au/api/v0/search/datasets?publisher=History+Trust+of+South+Australia&limit=100\n",
      "https://data.gov.au/api/v0/search/datasets?query=%22Queensland+State+Archives%22&limit=100\n",
      "https://data.gov.au/api/v0/search/datasets?query=PROV+Public+Record+Office&limit=100\n"
     ]
    }
   ],
   "source": [
    "datafiles = harvest_datasets()"
   ]
  },
  {
   "cell_type": "code",
   "execution_count": 5,
   "metadata": {},
   "outputs": [
    {
     "data": {
      "text/html": [
       "<div>\n",
       "<style scoped>\n",
       "    .dataframe tbody tr th:only-of-type {\n",
       "        vertical-align: middle;\n",
       "    }\n",
       "\n",
       "    .dataframe tbody tr th {\n",
       "        vertical-align: top;\n",
       "    }\n",
       "\n",
       "    .dataframe thead th {\n",
       "        text-align: right;\n",
       "    }\n",
       "</style>\n",
       "<table border=\"1\" class=\"dataframe\">\n",
       "  <thead>\n",
       "    <tr style=\"text-align: right;\">\n",
       "      <th></th>\n",
       "      <th>dataset_description</th>\n",
       "      <th>dataset_issued</th>\n",
       "      <th>dataset_modified</th>\n",
       "      <th>dataset_title</th>\n",
       "      <th>download_url</th>\n",
       "      <th>end_date</th>\n",
       "      <th>file_description</th>\n",
       "      <th>file_issued</th>\n",
       "      <th>file_modified</th>\n",
       "      <th>file_title</th>\n",
       "      <th>format</th>\n",
       "      <th>info_url</th>\n",
       "      <th>licence</th>\n",
       "      <th>publisher</th>\n",
       "      <th>source</th>\n",
       "      <th>start_date</th>\n",
       "    </tr>\n",
       "  </thead>\n",
       "  <tbody>\n",
       "    <tr>\n",
       "      <th>0</th>\n",
       "      <td>This index contains 763 entries from two serie...</td>\n",
       "      <td>2014-09-30T04:34:46Z</td>\n",
       "      <td>2016-07-20T12:10:21Z</td>\n",
       "      <td>Railway Employment Records</td>\n",
       "      <td>http://data.nsw.gov.au/data/storage/f/2014-09-...</td>\n",
       "      <td>None</td>\n",
       "      <td>This dataset contains the following attributes...</td>\n",
       "      <td>2014-09-30T00:36:18Z</td>\n",
       "      <td>None</td>\n",
       "      <td>Railway Employment Records</td>\n",
       "      <td>CSV</td>\n",
       "      <td>https://data.nsw.gov.au/data/dataset/1f776129-...</td>\n",
       "      <td>Creative Commons Attribution</td>\n",
       "      <td>NSW State Archives</td>\n",
       "      <td>New South Wales Government</td>\n",
       "      <td>None</td>\n",
       "    </tr>\n",
       "    <tr>\n",
       "      <th>1</th>\n",
       "      <td>Researching deceased estates files before 1923...</td>\n",
       "      <td>2014-09-30T04:52:48Z</td>\n",
       "      <td>2016-07-20T12:09:20Z</td>\n",
       "      <td>Deceased Estate Files, 1880-1923</td>\n",
       "      <td>https://data.nsw.gov.au/data/dataset/5d45437c-...</td>\n",
       "      <td>None</td>\n",
       "      <td>This dataset contains the following attributes...</td>\n",
       "      <td>2014-09-30T00:55:53Z</td>\n",
       "      <td>None</td>\n",
       "      <td>Deceased Estates</td>\n",
       "      <td>CSV</td>\n",
       "      <td>https://data.nsw.gov.au/data/dataset/5d45437c-...</td>\n",
       "      <td>Creative Commons Attribution</td>\n",
       "      <td>NSW State Archives</td>\n",
       "      <td>New South Wales Government</td>\n",
       "      <td>None</td>\n",
       "    </tr>\n",
       "    <tr>\n",
       "      <th>2</th>\n",
       "      <td>The passage of the Returned Soldiers Settlemen...</td>\n",
       "      <td>2013-05-28T05:07:29Z</td>\n",
       "      <td>2016-06-16T01:18Z</td>\n",
       "      <td>Soldier Settlement Indexes</td>\n",
       "      <td>https://data.nsw.gov.au/data/dataset/78fe0108-...</td>\n",
       "      <td>None</td>\n",
       "      <td>For a description of this data, see: [Closer S...</td>\n",
       "      <td>2013-05-28T01:08:57Z</td>\n",
       "      <td>None</td>\n",
       "      <td>Closer Settlement Promotion files, 1913-</td>\n",
       "      <td>CSV</td>\n",
       "      <td>https://data.nsw.gov.au/data/dataset/78fe0108-...</td>\n",
       "      <td>Creative Commons Attribution</td>\n",
       "      <td>NSW State Archives</td>\n",
       "      <td>New South Wales Government</td>\n",
       "      <td>None</td>\n",
       "    </tr>\n",
       "    <tr>\n",
       "      <th>3</th>\n",
       "      <td>The passage of the Returned Soldiers Settlemen...</td>\n",
       "      <td>2013-05-28T05:07:29Z</td>\n",
       "      <td>2016-06-16T01:18Z</td>\n",
       "      <td>Soldier Settlement Indexes</td>\n",
       "      <td>https://data.nsw.gov.au/data/dataset/78fe0108-...</td>\n",
       "      <td>None</td>\n",
       "      <td>For a description of this data, see this page:...</td>\n",
       "      <td>2013-05-28T01:09:42Z</td>\n",
       "      <td>None</td>\n",
       "      <td>Closer Settlement Transfer Registers, Jul 1919...</td>\n",
       "      <td>CSV</td>\n",
       "      <td>https://data.nsw.gov.au/data/dataset/78fe0108-...</td>\n",
       "      <td>Creative Commons Attribution</td>\n",
       "      <td>NSW State Archives</td>\n",
       "      <td>New South Wales Government</td>\n",
       "      <td>None</td>\n",
       "    </tr>\n",
       "    <tr>\n",
       "      <th>4</th>\n",
       "      <td>The passage of the Returned Soldiers Settlemen...</td>\n",
       "      <td>2013-05-28T05:07:29Z</td>\n",
       "      <td>2016-06-16T01:18Z</td>\n",
       "      <td>Soldier Settlement Indexes</td>\n",
       "      <td>https://data.nsw.gov.au/data/dataset/78fe0108-...</td>\n",
       "      <td>None</td>\n",
       "      <td>For a description of this data, see this page:...</td>\n",
       "      <td>2013-05-28T01:10:39Z</td>\n",
       "      <td>None</td>\n",
       "      <td>Closer Settlement and Returned Soldier’s Trans...</td>\n",
       "      <td>CSV</td>\n",
       "      <td>https://data.nsw.gov.au/data/dataset/78fe0108-...</td>\n",
       "      <td>Creative Commons Attribution</td>\n",
       "      <td>NSW State Archives</td>\n",
       "      <td>New South Wales Government</td>\n",
       "      <td>None</td>\n",
       "    </tr>\n",
       "  </tbody>\n",
       "</table>\n",
       "</div>"
      ],
      "text/plain": [
       "                                 dataset_description        dataset_issued  \\\n",
       "0  This index contains 763 entries from two serie...  2014-09-30T04:34:46Z   \n",
       "1  Researching deceased estates files before 1923...  2014-09-30T04:52:48Z   \n",
       "2  The passage of the Returned Soldiers Settlemen...  2013-05-28T05:07:29Z   \n",
       "3  The passage of the Returned Soldiers Settlemen...  2013-05-28T05:07:29Z   \n",
       "4  The passage of the Returned Soldiers Settlemen...  2013-05-28T05:07:29Z   \n",
       "\n",
       "       dataset_modified                     dataset_title  \\\n",
       "0  2016-07-20T12:10:21Z        Railway Employment Records   \n",
       "1  2016-07-20T12:09:20Z  Deceased Estate Files, 1880-1923   \n",
       "2     2016-06-16T01:18Z        Soldier Settlement Indexes   \n",
       "3     2016-06-16T01:18Z        Soldier Settlement Indexes   \n",
       "4     2016-06-16T01:18Z        Soldier Settlement Indexes   \n",
       "\n",
       "                                        download_url end_date  \\\n",
       "0  http://data.nsw.gov.au/data/storage/f/2014-09-...     None   \n",
       "1  https://data.nsw.gov.au/data/dataset/5d45437c-...     None   \n",
       "2  https://data.nsw.gov.au/data/dataset/78fe0108-...     None   \n",
       "3  https://data.nsw.gov.au/data/dataset/78fe0108-...     None   \n",
       "4  https://data.nsw.gov.au/data/dataset/78fe0108-...     None   \n",
       "\n",
       "                                    file_description           file_issued  \\\n",
       "0  This dataset contains the following attributes...  2014-09-30T00:36:18Z   \n",
       "1  This dataset contains the following attributes...  2014-09-30T00:55:53Z   \n",
       "2  For a description of this data, see: [Closer S...  2013-05-28T01:08:57Z   \n",
       "3  For a description of this data, see this page:...  2013-05-28T01:09:42Z   \n",
       "4  For a description of this data, see this page:...  2013-05-28T01:10:39Z   \n",
       "\n",
       "  file_modified                                         file_title format  \\\n",
       "0          None                         Railway Employment Records    CSV   \n",
       "1          None                                   Deceased Estates    CSV   \n",
       "2          None           Closer Settlement Promotion files, 1913-    CSV   \n",
       "3          None  Closer Settlement Transfer Registers, Jul 1919...    CSV   \n",
       "4          None  Closer Settlement and Returned Soldier’s Trans...    CSV   \n",
       "\n",
       "                                            info_url  \\\n",
       "0  https://data.nsw.gov.au/data/dataset/1f776129-...   \n",
       "1  https://data.nsw.gov.au/data/dataset/5d45437c-...   \n",
       "2  https://data.nsw.gov.au/data/dataset/78fe0108-...   \n",
       "3  https://data.nsw.gov.au/data/dataset/78fe0108-...   \n",
       "4  https://data.nsw.gov.au/data/dataset/78fe0108-...   \n",
       "\n",
       "                        licence           publisher  \\\n",
       "0  Creative Commons Attribution  NSW State Archives   \n",
       "1  Creative Commons Attribution  NSW State Archives   \n",
       "2  Creative Commons Attribution  NSW State Archives   \n",
       "3  Creative Commons Attribution  NSW State Archives   \n",
       "4  Creative Commons Attribution  NSW State Archives   \n",
       "\n",
       "                       source start_date  \n",
       "0  New South Wales Government       None  \n",
       "1  New South Wales Government       None  \n",
       "2  New South Wales Government       None  \n",
       "3  New South Wales Government       None  \n",
       "4  New South Wales Government       None  "
      ]
     },
     "execution_count": 5,
     "metadata": {},
     "output_type": "execute_result"
    }
   ],
   "source": [
    "df = pd.DataFrame(datafiles)\n",
    "df.head()"
   ]
  },
  {
   "cell_type": "code",
   "execution_count": 6,
   "metadata": {},
   "outputs": [
    {
     "data": {
      "text/plain": [
       "(939, 16)"
      ]
     },
     "execution_count": 6,
     "metadata": {},
     "output_type": "execute_result"
    }
   ],
   "source": [
    "df.shape"
   ]
  },
  {
   "cell_type": "code",
   "execution_count": 7,
   "metadata": {},
   "outputs": [
    {
     "data": {
      "text/plain": [
       "CSV           584\n",
       "XML            80\n",
       "JSON           74\n",
       "XLSX           60\n",
       "DOCX           34\n",
       "HTML           33\n",
       "ZIP            14\n",
       "PLAIN          14\n",
       "API             9\n",
       "GEOJSON         8\n",
       "DATA            6\n",
       "OTHER           4\n",
       "KML             3\n",
       "JPEG            2\n",
       "RSS             2\n",
       "JAVASCRIPT      1\n",
       "APP             1\n",
       "RDF             1\n",
       "WMS             1\n",
       "CSS             1\n",
       "PDF             1\n",
       "WFS             1\n",
       "HMTL            1\n",
       "Name: format, dtype: int64"
      ]
     },
     "execution_count": 7,
     "metadata": {},
     "output_type": "execute_result"
    }
   ],
   "source": [
    "df['format'].value_counts()"
   ]
  },
  {
   "cell_type": "code",
   "execution_count": 8,
   "metadata": {},
   "outputs": [
    {
     "data": {
      "text/plain": [
       "Creative Commons Attribution                       246\n",
       "Creative Commons Attribution 3.0 Australia         241\n",
       "Creative Commons Attribution 4.0                   237\n",
       "Creative Commons Attribution 4.0 International     144\n",
       "Creative Commons Attribution 2.5 Australia          32\n",
       "Creative Commons Attribution-NonCommercial          10\n",
       "Other (Open)                                         5\n",
       "notspecified                                         5\n",
       "Creative Commons Attribution 3.0                     3\n",
       "Creative Commons Attribution Share-Alike 4.0         3\n",
       "Creative Commons Attribution Non-Commercial 4.0      2\n",
       "Custom (Other)                                       1\n",
       "Name: licence, dtype: int64"
      ]
     },
     "execution_count": 8,
     "metadata": {},
     "output_type": "execute_result"
    }
   ],
   "source": [
    "df['licence'].value_counts()"
   ]
  },
  {
   "cell_type": "code",
   "execution_count": 9,
   "metadata": {},
   "outputs": [
    {
     "data": {
      "text/plain": [
       "State Library of Queensland                  204\n",
       "Queensland State Archives                    172\n",
       "State Library of Western Australia           147\n",
       "State Library of South Australia             140\n",
       "Libraries Tasmania                            71\n",
       "State Records                                 41\n",
       "PROV Public Record Office                     33\n",
       "South Australian Museum                       33\n",
       "State Library of New South Wales              21\n",
       "History Trust of South Australia              19\n",
       "NSW State Archives                            19\n",
       "State Records Office of Western Australia      7\n",
       "Western Australian Museum                      6\n",
       "State Library of NSW                           6\n",
       "National Library of Australia                  5\n",
       "State Library of Victoria                      5\n",
       "National Archives of Australia                 3\n",
       "Museum of Applied Arts and Sciences            3\n",
       "Tasmanian Museum and Art Gallery               2\n",
       "Mount Gambier Library                          2\n",
       "Name: publisher, dtype: int64"
      ]
     },
     "execution_count": 9,
     "metadata": {},
     "output_type": "execute_result"
    }
   ],
   "source": [
    "df['publisher'].value_counts()"
   ]
  },
  {
   "cell_type": "code",
   "execution_count": 10,
   "metadata": {},
   "outputs": [
    {
     "data": {
      "text/html": [
       "<a href='glam_datasets_all_formats_from_datagovau.csv' target='_blank'>glam_datasets_all_formats_from_datagovau.csv</a><br>"
      ],
      "text/plain": [
       "/Volumes/Workspace/mycode/ozglam-data/src/glam_datasets_all_formats_from_datagovau.csv"
      ]
     },
     "metadata": {},
     "output_type": "display_data"
    }
   ],
   "source": [
    "df.to_csv('glam_datasets_all_formats_from_datagovau.csv', index=False)\n",
    "display(FileLink('glam_datasets_all_formats_from_datagovau.csv'))"
   ]
  },
  {
   "cell_type": "code",
   "execution_count": 11,
   "metadata": {},
   "outputs": [],
   "source": [
    "csvs = df.loc[df['format'] == 'CSV']"
   ]
  },
  {
   "cell_type": "code",
   "execution_count": 12,
   "metadata": {},
   "outputs": [
    {
     "data": {
      "text/plain": [
       "(584, 16)"
      ]
     },
     "execution_count": 12,
     "metadata": {},
     "output_type": "execute_result"
    }
   ],
   "source": [
    "csvs.shape"
   ]
  },
  {
   "cell_type": "code",
   "execution_count": 13,
   "metadata": {},
   "outputs": [
    {
     "data": {
      "text/plain": [
       "State Library of Queensland                  185\n",
       "Queensland State Archives                    122\n",
       "State Library of Western Australia            76\n",
       "State Library of South Australia              72\n",
       "State Records                                 29\n",
       "PROV Public Record Office                     26\n",
       "Libraries Tasmania                            23\n",
       "NSW State Archives                            17\n",
       "State Library of New South Wales              10\n",
       "South Australian Museum                        8\n",
       "History Trust of South Australia               6\n",
       "State Library of Victoria                      5\n",
       "State Records Office of Western Australia      3\n",
       "National Archives of Australia                 1\n",
       "Mount Gambier Library                          1\n",
       "Name: publisher, dtype: int64"
      ]
     },
     "execution_count": 13,
     "metadata": {},
     "output_type": "execute_result"
    }
   ],
   "source": [
    "csvs['publisher'].value_counts()"
   ]
  },
  {
   "cell_type": "code",
   "execution_count": 14,
   "metadata": {},
   "outputs": [
    {
     "data": {
      "text/html": [
       "<a href='glam_datasets_csvs_from_datagovau.csv' target='_blank'>glam_datasets_csvs_from_datagovau.csv</a><br>"
      ],
      "text/plain": [
       "/Volumes/Workspace/mycode/ozglam-data/src/glam_datasets_csvs_from_datagovau.csv"
      ]
     },
     "metadata": {},
     "output_type": "display_data"
    }
   ],
   "source": [
    "csvs.to_csv('glam_datasets_csvs_from_datagovau.csv', index=False)\n",
    "display(FileLink('glam_datasets_csvs_from_datagovau.csv'))"
   ]
  },
  {
   "cell_type": "code",
   "execution_count": 15,
   "metadata": {
    "scrolled": false
   },
   "outputs": [],
   "source": [
    "# Write results to a markdown file\n",
    "orgs = df.sort_values(by=['publisher', 'dataset_title', 'dataset_modified']).groupby('publisher')\n",
    "with open('glam_datasets_from_datagovau.md', 'w') as md_file:\n",
    "    for org, group in orgs:\n",
    "        md_file.write('\\n## {}\\n'.format(org))\n",
    "        for dataset, files in group.groupby(['dataset_title', 'info_url']):\n",
    "            md_file.write('\\n### [{}]({})\\n'.format(dataset[0], dataset[1]))\n",
    "            for row in files.itertuples():\n",
    "                md_file.write('* [{}]({}) ({}, {})\\n'.format(row.file_title, row.download_url, row.format, row.file_issued))\n",
    "    "
   ]
  },
  {
   "cell_type": "code",
   "execution_count": null,
   "metadata": {},
   "outputs": [],
   "source": []
  }
 ],
 "metadata": {
  "kernelspec": {
   "display_name": "Python 3",
   "language": "python",
   "name": "python3"
  },
  "language_info": {
   "codemirror_mode": {
    "name": "ipython",
    "version": 3
   },
   "file_extension": ".py",
   "mimetype": "text/x-python",
   "name": "python",
   "nbconvert_exporter": "python",
   "pygments_lexer": "ipython3",
   "version": "3.7.3"
  }
 },
 "nbformat": 4,
 "nbformat_minor": 2
}
