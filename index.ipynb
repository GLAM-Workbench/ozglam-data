{
 "cells": [
  {
   "cell_type": "markdown",
   "id": "aa6d57b6",
   "metadata": {},
   "source": [
    "# GLAM datasets from government data portals\n",
    "\n",
    "Current version: [v1.0.0](https://github.com/GLAM-Workbench/ozglam-data/releases/tag/v1.0.0)\n",
    "\n",
    "Notebooks and harvested data relating to my attempts to extract information about GLAM (galleries, libraries, archives, and museums) datasets from government data portals. For more information see the [GLAM data from government portals](https://glam-workbench.net/glam-data-portals/) section of the GLAM Workbench.\n",
    "\n",
    "## Notebook topics\n",
    "\n",
    "* [Harvesting GLAM data from government portals](glam_data_from_gov_portals.ipynb) – attempts to harvest the details of GLAM datasets from state and national data portals.\n",
    "* [Harvest GLAM datasets from data.gov.au](harvest_glam_datasets_from_datagovau.ipynb) – quick attempt to harvest datasets published by GLAM institutions using the data.gov.au API.\n",
    "\n",
    "See the [GLAM Workbench for more details](https://glam-workbench.net/glam-data-portals/).\n",
    "\n",
    "## Data\n",
    "\n",
    "* [GLAM datasets from government data portals – all formats (CSV)](https://github.com/GLAM-Workbench/ozglam-data/blob/master/glam-datasets-from-gov-portals.csv)\n",
    "* [GLAM datasets from government data portals – CSVs only (CSV)](https://github.com/GLAM-Workbench/ozglam-data/blob/master/glam-datasets-from-gov-portals-csvs.csv)\n"
   ]
  },
  {
   "cell_type": "markdown",
   "id": "c5548a7f",
   "metadata": {},
   "source": [
    "## Cite as\n",
    "\n",
    "See the GLAM Workbench or [Zenodo](https://doi.org/10.5281/zenodo.3521724) for up-to-date citation details.\n",
    "\n",
    "----\n",
    "\n",
    "This repository is part of the [GLAM Workbench](https://glam-workbench.github.io/).  "
   ]
  }
 ],
 "metadata": {
  "jupytext": {
   "cell_metadata_filter": "-all"
  },
  "kernelspec": {
   "display_name": "Python 3 (ipykernel)",
   "language": "python",
   "name": "python3"
  }
 },
 "nbformat": 4,
 "nbformat_minor": 5
}
